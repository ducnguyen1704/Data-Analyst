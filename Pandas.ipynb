{
  "nbformat": 4,
  "nbformat_minor": 0,
  "metadata": {
    "colab": {
      "name": "Pandas.ipynb",
      "provenance": [],
      "collapsed_sections": [],
      "mount_file_id": "1sjjWbbeN5nLlA9gp_LBo16ax2laZB8hm",
      "authorship_tag": "ABX9TyOk2IVSEj88oJ0CKykg2yWw",
      "include_colab_link": true
    },
    "kernelspec": {
      "name": "python3",
      "display_name": "Python 3"
    },
    "language_info": {
      "name": "python"
    }
  },
  "cells": [
    {
      "cell_type": "markdown",
      "metadata": {
        "id": "view-in-github",
        "colab_type": "text"
      },
      "source": [
        "<a href=\"https://colab.research.google.com/github/ducnguyen1704/Data-Analyst/blob/master/Pandas.ipynb\" target=\"_parent\"><img src=\"https://colab.research.google.com/assets/colab-badge.svg\" alt=\"Open In Colab\"/></a>"
      ]
    },
    {
      "cell_type": "markdown",
      "source": [
        "# Tìm hiểu về Pandas và DataFrame"
      ],
      "metadata": {
        "id": "xQRafcpJHtAB"
      }
    },
    {
      "cell_type": "markdown",
      "source": [
        "### Tạo DataFrame rỗng"
      ],
      "metadata": {
        "id": "9Xy9laRNIIAY"
      }
    },
    {
      "cell_type": "code",
      "execution_count": null,
      "metadata": {
        "colab": {
          "base_uri": "https://localhost:8080/",
          "height": 49
        },
        "id": "1g5leQoxHp84",
        "outputId": "68b1ffee-fcfd-4974-9c9e-579c43132394"
      },
      "outputs": [
        {
          "output_type": "execute_result",
          "data": {
            "text/html": [
              "\n",
              "  <div id=\"df-61d95aab-14a4-448c-99d1-3e630cf5ac00\">\n",
              "    <div class=\"colab-df-container\">\n",
              "      <div>\n",
              "<style scoped>\n",
              "    .dataframe tbody tr th:only-of-type {\n",
              "        vertical-align: middle;\n",
              "    }\n",
              "\n",
              "    .dataframe tbody tr th {\n",
              "        vertical-align: top;\n",
              "    }\n",
              "\n",
              "    .dataframe thead th {\n",
              "        text-align: right;\n",
              "    }\n",
              "</style>\n",
              "<table border=\"1\" class=\"dataframe\">\n",
              "  <thead>\n",
              "    <tr style=\"text-align: right;\">\n",
              "      <th></th>\n",
              "    </tr>\n",
              "  </thead>\n",
              "  <tbody>\n",
              "  </tbody>\n",
              "</table>\n",
              "</div>\n",
              "      <button class=\"colab-df-convert\" onclick=\"convertToInteractive('df-61d95aab-14a4-448c-99d1-3e630cf5ac00')\"\n",
              "              title=\"Convert this dataframe to an interactive table.\"\n",
              "              style=\"display:none;\">\n",
              "        \n",
              "  <svg xmlns=\"http://www.w3.org/2000/svg\" height=\"24px\"viewBox=\"0 0 24 24\"\n",
              "       width=\"24px\">\n",
              "    <path d=\"M0 0h24v24H0V0z\" fill=\"none\"/>\n",
              "    <path d=\"M18.56 5.44l.94 2.06.94-2.06 2.06-.94-2.06-.94-.94-2.06-.94 2.06-2.06.94zm-11 1L8.5 8.5l.94-2.06 2.06-.94-2.06-.94L8.5 2.5l-.94 2.06-2.06.94zm10 10l.94 2.06.94-2.06 2.06-.94-2.06-.94-.94-2.06-.94 2.06-2.06.94z\"/><path d=\"M17.41 7.96l-1.37-1.37c-.4-.4-.92-.59-1.43-.59-.52 0-1.04.2-1.43.59L10.3 9.45l-7.72 7.72c-.78.78-.78 2.05 0 2.83L4 21.41c.39.39.9.59 1.41.59.51 0 1.02-.2 1.41-.59l7.78-7.78 2.81-2.81c.8-.78.8-2.07 0-2.86zM5.41 20L4 18.59l7.72-7.72 1.47 1.35L5.41 20z\"/>\n",
              "  </svg>\n",
              "      </button>\n",
              "      \n",
              "  <style>\n",
              "    .colab-df-container {\n",
              "      display:flex;\n",
              "      flex-wrap:wrap;\n",
              "      gap: 12px;\n",
              "    }\n",
              "\n",
              "    .colab-df-convert {\n",
              "      background-color: #E8F0FE;\n",
              "      border: none;\n",
              "      border-radius: 50%;\n",
              "      cursor: pointer;\n",
              "      display: none;\n",
              "      fill: #1967D2;\n",
              "      height: 32px;\n",
              "      padding: 0 0 0 0;\n",
              "      width: 32px;\n",
              "    }\n",
              "\n",
              "    .colab-df-convert:hover {\n",
              "      background-color: #E2EBFA;\n",
              "      box-shadow: 0px 1px 2px rgba(60, 64, 67, 0.3), 0px 1px 3px 1px rgba(60, 64, 67, 0.15);\n",
              "      fill: #174EA6;\n",
              "    }\n",
              "\n",
              "    [theme=dark] .colab-df-convert {\n",
              "      background-color: #3B4455;\n",
              "      fill: #D2E3FC;\n",
              "    }\n",
              "\n",
              "    [theme=dark] .colab-df-convert:hover {\n",
              "      background-color: #434B5C;\n",
              "      box-shadow: 0px 1px 3px 1px rgba(0, 0, 0, 0.15);\n",
              "      filter: drop-shadow(0px 1px 2px rgba(0, 0, 0, 0.3));\n",
              "      fill: #FFFFFF;\n",
              "    }\n",
              "  </style>\n",
              "\n",
              "      <script>\n",
              "        const buttonEl =\n",
              "          document.querySelector('#df-61d95aab-14a4-448c-99d1-3e630cf5ac00 button.colab-df-convert');\n",
              "        buttonEl.style.display =\n",
              "          google.colab.kernel.accessAllowed ? 'block' : 'none';\n",
              "\n",
              "        async function convertToInteractive(key) {\n",
              "          const element = document.querySelector('#df-61d95aab-14a4-448c-99d1-3e630cf5ac00');\n",
              "          const dataTable =\n",
              "            await google.colab.kernel.invokeFunction('convertToInteractive',\n",
              "                                                     [key], {});\n",
              "          if (!dataTable) return;\n",
              "\n",
              "          const docLinkHtml = 'Like what you see? Visit the ' +\n",
              "            '<a target=\"_blank\" href=https://colab.research.google.com/notebooks/data_table.ipynb>data table notebook</a>'\n",
              "            + ' to learn more about interactive tables.';\n",
              "          element.innerHTML = '';\n",
              "          dataTable['output_type'] = 'display_data';\n",
              "          await google.colab.output.renderOutput(dataTable, element);\n",
              "          const docLink = document.createElement('div');\n",
              "          docLink.innerHTML = docLinkHtml;\n",
              "          element.appendChild(docLink);\n",
              "        }\n",
              "      </script>\n",
              "    </div>\n",
              "  </div>\n",
              "  "
            ],
            "text/plain": [
              "Empty DataFrame\n",
              "Columns: []\n",
              "Index: []"
            ]
          },
          "metadata": {},
          "execution_count": 1
        }
      ],
      "source": [
        "import pandas as pd\n",
        "data = pd.DataFrame()\n",
        "data.head(10)"
      ]
    },
    {
      "cell_type": "markdown",
      "source": [
        "### Tạo DataFrame từ list"
      ],
      "metadata": {
        "id": "BraR3px1INQn"
      }
    },
    {
      "cell_type": "code",
      "source": [
        "lst = ['Kế toán','Kinh doanh','Tiếp thị']\n",
        "df = pd.DataFrame(lst)\n",
        "df"
      ],
      "metadata": {
        "colab": {
          "base_uri": "https://localhost:8080/",
          "height": 143
        },
        "id": "galZt0PsIEET",
        "outputId": "49e0791d-19ae-47df-b2a0-f6c65a5c90e3"
      },
      "execution_count": null,
      "outputs": [
        {
          "output_type": "execute_result",
          "data": {
            "text/html": [
              "\n",
              "  <div id=\"df-57d9bbeb-da2c-41ec-918b-dba0a37972c7\">\n",
              "    <div class=\"colab-df-container\">\n",
              "      <div>\n",
              "<style scoped>\n",
              "    .dataframe tbody tr th:only-of-type {\n",
              "        vertical-align: middle;\n",
              "    }\n",
              "\n",
              "    .dataframe tbody tr th {\n",
              "        vertical-align: top;\n",
              "    }\n",
              "\n",
              "    .dataframe thead th {\n",
              "        text-align: right;\n",
              "    }\n",
              "</style>\n",
              "<table border=\"1\" class=\"dataframe\">\n",
              "  <thead>\n",
              "    <tr style=\"text-align: right;\">\n",
              "      <th></th>\n",
              "      <th>0</th>\n",
              "    </tr>\n",
              "  </thead>\n",
              "  <tbody>\n",
              "    <tr>\n",
              "      <th>0</th>\n",
              "      <td>Kế toán</td>\n",
              "    </tr>\n",
              "    <tr>\n",
              "      <th>1</th>\n",
              "      <td>Kinh doanh</td>\n",
              "    </tr>\n",
              "    <tr>\n",
              "      <th>2</th>\n",
              "      <td>Tiếp thị</td>\n",
              "    </tr>\n",
              "  </tbody>\n",
              "</table>\n",
              "</div>\n",
              "      <button class=\"colab-df-convert\" onclick=\"convertToInteractive('df-57d9bbeb-da2c-41ec-918b-dba0a37972c7')\"\n",
              "              title=\"Convert this dataframe to an interactive table.\"\n",
              "              style=\"display:none;\">\n",
              "        \n",
              "  <svg xmlns=\"http://www.w3.org/2000/svg\" height=\"24px\"viewBox=\"0 0 24 24\"\n",
              "       width=\"24px\">\n",
              "    <path d=\"M0 0h24v24H0V0z\" fill=\"none\"/>\n",
              "    <path d=\"M18.56 5.44l.94 2.06.94-2.06 2.06-.94-2.06-.94-.94-2.06-.94 2.06-2.06.94zm-11 1L8.5 8.5l.94-2.06 2.06-.94-2.06-.94L8.5 2.5l-.94 2.06-2.06.94zm10 10l.94 2.06.94-2.06 2.06-.94-2.06-.94-.94-2.06-.94 2.06-2.06.94z\"/><path d=\"M17.41 7.96l-1.37-1.37c-.4-.4-.92-.59-1.43-.59-.52 0-1.04.2-1.43.59L10.3 9.45l-7.72 7.72c-.78.78-.78 2.05 0 2.83L4 21.41c.39.39.9.59 1.41.59.51 0 1.02-.2 1.41-.59l7.78-7.78 2.81-2.81c.8-.78.8-2.07 0-2.86zM5.41 20L4 18.59l7.72-7.72 1.47 1.35L5.41 20z\"/>\n",
              "  </svg>\n",
              "      </button>\n",
              "      \n",
              "  <style>\n",
              "    .colab-df-container {\n",
              "      display:flex;\n",
              "      flex-wrap:wrap;\n",
              "      gap: 12px;\n",
              "    }\n",
              "\n",
              "    .colab-df-convert {\n",
              "      background-color: #E8F0FE;\n",
              "      border: none;\n",
              "      border-radius: 50%;\n",
              "      cursor: pointer;\n",
              "      display: none;\n",
              "      fill: #1967D2;\n",
              "      height: 32px;\n",
              "      padding: 0 0 0 0;\n",
              "      width: 32px;\n",
              "    }\n",
              "\n",
              "    .colab-df-convert:hover {\n",
              "      background-color: #E2EBFA;\n",
              "      box-shadow: 0px 1px 2px rgba(60, 64, 67, 0.3), 0px 1px 3px 1px rgba(60, 64, 67, 0.15);\n",
              "      fill: #174EA6;\n",
              "    }\n",
              "\n",
              "    [theme=dark] .colab-df-convert {\n",
              "      background-color: #3B4455;\n",
              "      fill: #D2E3FC;\n",
              "    }\n",
              "\n",
              "    [theme=dark] .colab-df-convert:hover {\n",
              "      background-color: #434B5C;\n",
              "      box-shadow: 0px 1px 3px 1px rgba(0, 0, 0, 0.15);\n",
              "      filter: drop-shadow(0px 1px 2px rgba(0, 0, 0, 0.3));\n",
              "      fill: #FFFFFF;\n",
              "    }\n",
              "  </style>\n",
              "\n",
              "      <script>\n",
              "        const buttonEl =\n",
              "          document.querySelector('#df-57d9bbeb-da2c-41ec-918b-dba0a37972c7 button.colab-df-convert');\n",
              "        buttonEl.style.display =\n",
              "          google.colab.kernel.accessAllowed ? 'block' : 'none';\n",
              "\n",
              "        async function convertToInteractive(key) {\n",
              "          const element = document.querySelector('#df-57d9bbeb-da2c-41ec-918b-dba0a37972c7');\n",
              "          const dataTable =\n",
              "            await google.colab.kernel.invokeFunction('convertToInteractive',\n",
              "                                                     [key], {});\n",
              "          if (!dataTable) return;\n",
              "\n",
              "          const docLinkHtml = 'Like what you see? Visit the ' +\n",
              "            '<a target=\"_blank\" href=https://colab.research.google.com/notebooks/data_table.ipynb>data table notebook</a>'\n",
              "            + ' to learn more about interactive tables.';\n",
              "          element.innerHTML = '';\n",
              "          dataTable['output_type'] = 'display_data';\n",
              "          await google.colab.output.renderOutput(dataTable, element);\n",
              "          const docLink = document.createElement('div');\n",
              "          docLink.innerHTML = docLinkHtml;\n",
              "          element.appendChild(docLink);\n",
              "        }\n",
              "      </script>\n",
              "    </div>\n",
              "  </div>\n",
              "  "
            ],
            "text/plain": [
              "            0\n",
              "0     Kế toán\n",
              "1  Kinh doanh\n",
              "2    Tiếp thị"
            ]
          },
          "metadata": {},
          "execution_count": 2
        }
      ]
    },
    {
      "cell_type": "markdown",
      "source": [
        "### Tạo DataFrame từ tuple"
      ],
      "metadata": {
        "id": "_baV0JmJIYgB"
      }
    },
    {
      "cell_type": "code",
      "source": [
        "tuples = [('Kế toán', 2000),( 'Kinh doanh', 2100), ('Tiếp thị', 1900)]\n",
        "df = pd.DataFrame(tuples, columns=['Nghề','Lương'])\n",
        "df"
      ],
      "metadata": {
        "colab": {
          "base_uri": "https://localhost:8080/",
          "height": 143
        },
        "id": "ewuDjE27IV__",
        "outputId": "1c7fc6f6-6f6a-4fe5-d2b6-8943ed9c48c0"
      },
      "execution_count": null,
      "outputs": [
        {
          "output_type": "execute_result",
          "data": {
            "text/html": [
              "\n",
              "  <div id=\"df-6bb59c9e-5ec0-4fd2-947b-17ec5d6a4a6e\">\n",
              "    <div class=\"colab-df-container\">\n",
              "      <div>\n",
              "<style scoped>\n",
              "    .dataframe tbody tr th:only-of-type {\n",
              "        vertical-align: middle;\n",
              "    }\n",
              "\n",
              "    .dataframe tbody tr th {\n",
              "        vertical-align: top;\n",
              "    }\n",
              "\n",
              "    .dataframe thead th {\n",
              "        text-align: right;\n",
              "    }\n",
              "</style>\n",
              "<table border=\"1\" class=\"dataframe\">\n",
              "  <thead>\n",
              "    <tr style=\"text-align: right;\">\n",
              "      <th></th>\n",
              "      <th>Nghề</th>\n",
              "      <th>Lương</th>\n",
              "    </tr>\n",
              "  </thead>\n",
              "  <tbody>\n",
              "    <tr>\n",
              "      <th>0</th>\n",
              "      <td>Kế toán</td>\n",
              "      <td>2000</td>\n",
              "    </tr>\n",
              "    <tr>\n",
              "      <th>1</th>\n",
              "      <td>Kinh doanh</td>\n",
              "      <td>2100</td>\n",
              "    </tr>\n",
              "    <tr>\n",
              "      <th>2</th>\n",
              "      <td>Tiếp thị</td>\n",
              "      <td>1900</td>\n",
              "    </tr>\n",
              "  </tbody>\n",
              "</table>\n",
              "</div>\n",
              "      <button class=\"colab-df-convert\" onclick=\"convertToInteractive('df-6bb59c9e-5ec0-4fd2-947b-17ec5d6a4a6e')\"\n",
              "              title=\"Convert this dataframe to an interactive table.\"\n",
              "              style=\"display:none;\">\n",
              "        \n",
              "  <svg xmlns=\"http://www.w3.org/2000/svg\" height=\"24px\"viewBox=\"0 0 24 24\"\n",
              "       width=\"24px\">\n",
              "    <path d=\"M0 0h24v24H0V0z\" fill=\"none\"/>\n",
              "    <path d=\"M18.56 5.44l.94 2.06.94-2.06 2.06-.94-2.06-.94-.94-2.06-.94 2.06-2.06.94zm-11 1L8.5 8.5l.94-2.06 2.06-.94-2.06-.94L8.5 2.5l-.94 2.06-2.06.94zm10 10l.94 2.06.94-2.06 2.06-.94-2.06-.94-.94-2.06-.94 2.06-2.06.94z\"/><path d=\"M17.41 7.96l-1.37-1.37c-.4-.4-.92-.59-1.43-.59-.52 0-1.04.2-1.43.59L10.3 9.45l-7.72 7.72c-.78.78-.78 2.05 0 2.83L4 21.41c.39.39.9.59 1.41.59.51 0 1.02-.2 1.41-.59l7.78-7.78 2.81-2.81c.8-.78.8-2.07 0-2.86zM5.41 20L4 18.59l7.72-7.72 1.47 1.35L5.41 20z\"/>\n",
              "  </svg>\n",
              "      </button>\n",
              "      \n",
              "  <style>\n",
              "    .colab-df-container {\n",
              "      display:flex;\n",
              "      flex-wrap:wrap;\n",
              "      gap: 12px;\n",
              "    }\n",
              "\n",
              "    .colab-df-convert {\n",
              "      background-color: #E8F0FE;\n",
              "      border: none;\n",
              "      border-radius: 50%;\n",
              "      cursor: pointer;\n",
              "      display: none;\n",
              "      fill: #1967D2;\n",
              "      height: 32px;\n",
              "      padding: 0 0 0 0;\n",
              "      width: 32px;\n",
              "    }\n",
              "\n",
              "    .colab-df-convert:hover {\n",
              "      background-color: #E2EBFA;\n",
              "      box-shadow: 0px 1px 2px rgba(60, 64, 67, 0.3), 0px 1px 3px 1px rgba(60, 64, 67, 0.15);\n",
              "      fill: #174EA6;\n",
              "    }\n",
              "\n",
              "    [theme=dark] .colab-df-convert {\n",
              "      background-color: #3B4455;\n",
              "      fill: #D2E3FC;\n",
              "    }\n",
              "\n",
              "    [theme=dark] .colab-df-convert:hover {\n",
              "      background-color: #434B5C;\n",
              "      box-shadow: 0px 1px 3px 1px rgba(0, 0, 0, 0.15);\n",
              "      filter: drop-shadow(0px 1px 2px rgba(0, 0, 0, 0.3));\n",
              "      fill: #FFFFFF;\n",
              "    }\n",
              "  </style>\n",
              "\n",
              "      <script>\n",
              "        const buttonEl =\n",
              "          document.querySelector('#df-6bb59c9e-5ec0-4fd2-947b-17ec5d6a4a6e button.colab-df-convert');\n",
              "        buttonEl.style.display =\n",
              "          google.colab.kernel.accessAllowed ? 'block' : 'none';\n",
              "\n",
              "        async function convertToInteractive(key) {\n",
              "          const element = document.querySelector('#df-6bb59c9e-5ec0-4fd2-947b-17ec5d6a4a6e');\n",
              "          const dataTable =\n",
              "            await google.colab.kernel.invokeFunction('convertToInteractive',\n",
              "                                                     [key], {});\n",
              "          if (!dataTable) return;\n",
              "\n",
              "          const docLinkHtml = 'Like what you see? Visit the ' +\n",
              "            '<a target=\"_blank\" href=https://colab.research.google.com/notebooks/data_table.ipynb>data table notebook</a>'\n",
              "            + ' to learn more about interactive tables.';\n",
              "          element.innerHTML = '';\n",
              "          dataTable['output_type'] = 'display_data';\n",
              "          await google.colab.output.renderOutput(dataTable, element);\n",
              "          const docLink = document.createElement('div');\n",
              "          docLink.innerHTML = docLinkHtml;\n",
              "          element.appendChild(docLink);\n",
              "        }\n",
              "      </script>\n",
              "    </div>\n",
              "  </div>\n",
              "  "
            ],
            "text/plain": [
              "         Nghề  Lương\n",
              "0     Kế toán   2000\n",
              "1  Kinh doanh   2100\n",
              "2    Tiếp thị   1900"
            ]
          },
          "metadata": {},
          "execution_count": 3
        }
      ]
    },
    {
      "cell_type": "markdown",
      "source": [
        "Sự khác biệt giữa List và Tuple gồm:\n",
        "\n",
        "1. Tính bất biến: Tuple là bất biến, có nghĩa là chúng ta không thể thêm, bớt hoặc thay đổi các phần tử trong một Tuple. \n",
        "\n",
        "2. Cú pháp: Tuple biểu diễn các phần tử thông qua cặp dấu ngoặc tròn, List sử dụng cặp dấu ngoặc vuông.\n",
        "\n",
        "3. Tốc độ: Tuple có tốc độ truy cập và truy xuất các phần tử nhanh hơn List."
      ],
      "metadata": {
        "id": "_DxCmCpVImIN"
      }
    },
    {
      "cell_type": "markdown",
      "source": [
        "### Tạo DataFrame từ dict"
      ],
      "metadata": {
        "id": "GCDpvi_kIrK5"
      }
    },
    {
      "cell_type": "code",
      "source": [
        "dic = {'Nghề':['Kế toán','Kinh doanh','Tiếp thị'],\n",
        "       'Lương':[2000, 2100, 1900]}\n",
        "df = pd.DataFrame(dic)"
      ],
      "metadata": {
        "id": "jrrStmItIiOe"
      },
      "execution_count": null,
      "outputs": []
    },
    {
      "cell_type": "code",
      "source": [
        "print(df)"
      ],
      "metadata": {
        "colab": {
          "base_uri": "https://localhost:8080/"
        },
        "id": "7Dw1SXCjI74V",
        "outputId": "9bd5cdb8-884f-4461-e7a2-6642494e6160"
      },
      "execution_count": null,
      "outputs": [
        {
          "output_type": "stream",
          "name": "stdout",
          "text": [
            "         Nghề  Lương\n",
            "0     Kế toán   2000\n",
            "1  Kinh doanh   2100\n",
            "2    Tiếp thị   1900\n"
          ]
        }
      ]
    },
    {
      "cell_type": "markdown",
      "source": [
        "# Giới thiệu kiểu dữ liệu pandas series, tạo pandas series từ dictionary, numpy array, giá trị vô hướng (scalar)"
      ],
      "metadata": {
        "id": "WLcgquxRJORP"
      }
    },
    {
      "cell_type": "markdown",
      "source": [
        "Series là cấu trúc dữ liệu tuần tự một chiều có thể lưu trữ và xử lý các loại dữ liệu khác nhau như kiểu chuỗi, kiểu số, kiểu thời gian… Series là một trong các cột của DataFrame. Chúng ta có thể tạo Series bằng cách sử dụng Dictionary, mảng NumPy và từ các giá trị vô hướng. "
      ],
      "metadata": {
        "id": "9E8IKE9oJSxp"
      }
    },
    {
      "cell_type": "markdown",
      "source": [
        "### Tạo Series từ dictionary"
      ],
      "metadata": {
        "id": "0kkMI2CZJUdK"
      }
    },
    {
      "cell_type": "code",
      "source": [
        "dicts = {0 : 'Kế toán', 1 : 'Kinh doanh', 2 : 'Tiếp thị'}\n",
        "seri = pd.Series(dicts)\n",
        "print(seri)"
      ],
      "metadata": {
        "colab": {
          "base_uri": "https://localhost:8080/"
        },
        "id": "SussPWabI9cu",
        "outputId": "c5077f1a-0994-42c0-e8ff-1b3099284e8a"
      },
      "execution_count": null,
      "outputs": [
        {
          "output_type": "stream",
          "name": "stdout",
          "text": [
            "0       Kế toán\n",
            "1    Kinh doanh\n",
            "2      Tiếp thị\n",
            "dtype: object\n"
          ]
        }
      ]
    },
    {
      "cell_type": "markdown",
      "source": [
        "### Tạo seri từ numpy array"
      ],
      "metadata": {
        "id": "zcOsbM9oJuXB"
      }
    },
    {
      "cell_type": "code",
      "source": [
        "import pandas as pd\n",
        "import numpy as np"
      ],
      "metadata": {
        "id": "Mj9kX6stJdl4"
      },
      "execution_count": null,
      "outputs": []
    },
    {
      "cell_type": "code",
      "source": [
        "arr = np.array([51,65,48,59,68])\n",
        "seri2 = pd.Series(arr)\n",
        "seri2"
      ],
      "metadata": {
        "colab": {
          "base_uri": "https://localhost:8080/"
        },
        "id": "trpkr_vTJx8U",
        "outputId": "72c6a1da-0e8c-4c57-ffe7-ebce9bb1cc86"
      },
      "execution_count": null,
      "outputs": [
        {
          "output_type": "execute_result",
          "data": {
            "text/plain": [
              "0    51\n",
              "1    65\n",
              "2    48\n",
              "3    59\n",
              "4    68\n",
              "dtype: int64"
            ]
          },
          "metadata": {},
          "execution_count": 12
        }
      ]
    },
    {
      "cell_type": "code",
      "source": [
        "df = pd.DataFrame(arr, columns=['Chỉ số']) # DataFrame\n",
        "print(df)"
      ],
      "metadata": {
        "colab": {
          "base_uri": "https://localhost:8080/"
        },
        "id": "po7cStT5J7_R",
        "outputId": "eb069e99-60a7-4723-87c1-dc564134cec2"
      },
      "execution_count": null,
      "outputs": [
        {
          "output_type": "stream",
          "name": "stdout",
          "text": [
            "   Chỉ số\n",
            "0      51\n",
            "1      65\n",
            "2      48\n",
            "3      59\n",
            "4      68\n"
          ]
        }
      ]
    },
    {
      "cell_type": "markdown",
      "source": [
        "### Tạo series từ các giá trị vô hướng"
      ],
      "metadata": {
        "id": "EvodF6bMKL6B"
      }
    },
    {
      "cell_type": "code",
      "source": [
        "import pandas as pd\n",
        "import numpy as np\n",
        "import random\n",
        "b = random.randint(0,10)\n",
        "seri = pd.Series(8, index=[0,1,2,3,4,5,6,7,8])\n",
        "print(seri)"
      ],
      "metadata": {
        "colab": {
          "base_uri": "https://localhost:8080/"
        },
        "id": "zUgao1mpJ_RS",
        "outputId": "17e36661-0f29-4046-e93a-f9bd6378578b"
      },
      "execution_count": null,
      "outputs": [
        {
          "output_type": "stream",
          "name": "stdout",
          "text": [
            "0    8\n",
            "1    8\n",
            "2    8\n",
            "3    8\n",
            "4    8\n",
            "5    8\n",
            "6    8\n",
            "7    8\n",
            "8    8\n",
            "dtype: int64\n"
          ]
        }
      ]
    },
    {
      "cell_type": "markdown",
      "source": [
        "# Mô tả DataFrame; xác định số cột, số dòng của dataframe; xác định kiểu dữ liệu của các thuộc tính;"
      ],
      "metadata": {
        "id": "xKeam9F-KmIb"
      }
    },
    {
      "cell_type": "code",
      "source": [
        "import pandas as pd\n",
        "import numpy as np\n",
        "data = pd.read_csv('/content/drive/MyDrive/PhanTichDuLieu_CodeGym/Tuan02/data/FoodPrice_in_Turkey.csv')\n",
        "data.head(10)"
      ],
      "metadata": {
        "colab": {
          "base_uri": "https://localhost:8080/",
          "height": 363
        },
        "id": "G_-Az5V3KS14",
        "outputId": "87a26e4c-8b94-46b2-c69d-cd18a7ac82dc"
      },
      "execution_count": null,
      "outputs": [
        {
          "output_type": "execute_result",
          "data": {
            "text/html": [
              "\n",
              "  <div id=\"df-ff6e0f6d-06e4-448d-af31-2c549d6f2820\">\n",
              "    <div class=\"colab-df-container\">\n",
              "      <div>\n",
              "<style scoped>\n",
              "    .dataframe tbody tr th:only-of-type {\n",
              "        vertical-align: middle;\n",
              "    }\n",
              "\n",
              "    .dataframe tbody tr th {\n",
              "        vertical-align: top;\n",
              "    }\n",
              "\n",
              "    .dataframe thead th {\n",
              "        text-align: right;\n",
              "    }\n",
              "</style>\n",
              "<table border=\"1\" class=\"dataframe\">\n",
              "  <thead>\n",
              "    <tr style=\"text-align: right;\">\n",
              "      <th></th>\n",
              "      <th>Place</th>\n",
              "      <th>ProductId</th>\n",
              "      <th>ProductName</th>\n",
              "      <th>UmId</th>\n",
              "      <th>UmName</th>\n",
              "      <th>Month</th>\n",
              "      <th>Year</th>\n",
              "      <th>Price</th>\n",
              "    </tr>\n",
              "  </thead>\n",
              "  <tbody>\n",
              "    <tr>\n",
              "      <th>0</th>\n",
              "      <td>National Average</td>\n",
              "      <td>52</td>\n",
              "      <td>Rice - Retail</td>\n",
              "      <td>5</td>\n",
              "      <td>KG</td>\n",
              "      <td>5</td>\n",
              "      <td>2013</td>\n",
              "      <td>4.4920</td>\n",
              "    </tr>\n",
              "    <tr>\n",
              "      <th>1</th>\n",
              "      <td>National Average</td>\n",
              "      <td>52</td>\n",
              "      <td>Rice - Retail</td>\n",
              "      <td>5</td>\n",
              "      <td>KG</td>\n",
              "      <td>6</td>\n",
              "      <td>2013</td>\n",
              "      <td>4.5786</td>\n",
              "    </tr>\n",
              "    <tr>\n",
              "      <th>2</th>\n",
              "      <td>National Average</td>\n",
              "      <td>52</td>\n",
              "      <td>Rice - Retail</td>\n",
              "      <td>5</td>\n",
              "      <td>KG</td>\n",
              "      <td>11</td>\n",
              "      <td>2013</td>\n",
              "      <td>4.7865</td>\n",
              "    </tr>\n",
              "    <tr>\n",
              "      <th>3</th>\n",
              "      <td>National Average</td>\n",
              "      <td>52</td>\n",
              "      <td>Rice - Retail</td>\n",
              "      <td>5</td>\n",
              "      <td>KG</td>\n",
              "      <td>12</td>\n",
              "      <td>2013</td>\n",
              "      <td>5.1337</td>\n",
              "    </tr>\n",
              "    <tr>\n",
              "      <th>4</th>\n",
              "      <td>National Average</td>\n",
              "      <td>52</td>\n",
              "      <td>Rice - Retail</td>\n",
              "      <td>5</td>\n",
              "      <td>KG</td>\n",
              "      <td>1</td>\n",
              "      <td>2014</td>\n",
              "      <td>5.5099</td>\n",
              "    </tr>\n",
              "    <tr>\n",
              "      <th>5</th>\n",
              "      <td>National Average</td>\n",
              "      <td>52</td>\n",
              "      <td>Rice - Retail</td>\n",
              "      <td>5</td>\n",
              "      <td>KG</td>\n",
              "      <td>2</td>\n",
              "      <td>2014</td>\n",
              "      <td>5.8146</td>\n",
              "    </tr>\n",
              "    <tr>\n",
              "      <th>6</th>\n",
              "      <td>National Average</td>\n",
              "      <td>52</td>\n",
              "      <td>Rice - Retail</td>\n",
              "      <td>5</td>\n",
              "      <td>KG</td>\n",
              "      <td>3</td>\n",
              "      <td>2014</td>\n",
              "      <td>6.0014</td>\n",
              "    </tr>\n",
              "    <tr>\n",
              "      <th>7</th>\n",
              "      <td>National Average</td>\n",
              "      <td>52</td>\n",
              "      <td>Rice - Retail</td>\n",
              "      <td>5</td>\n",
              "      <td>KG</td>\n",
              "      <td>5</td>\n",
              "      <td>2014</td>\n",
              "      <td>6.3202</td>\n",
              "    </tr>\n",
              "    <tr>\n",
              "      <th>8</th>\n",
              "      <td>National Average</td>\n",
              "      <td>52</td>\n",
              "      <td>Rice - Retail</td>\n",
              "      <td>5</td>\n",
              "      <td>KG</td>\n",
              "      <td>6</td>\n",
              "      <td>2014</td>\n",
              "      <td>6.6019</td>\n",
              "    </tr>\n",
              "    <tr>\n",
              "      <th>9</th>\n",
              "      <td>National Average</td>\n",
              "      <td>52</td>\n",
              "      <td>Rice - Retail</td>\n",
              "      <td>5</td>\n",
              "      <td>KG</td>\n",
              "      <td>7</td>\n",
              "      <td>2014</td>\n",
              "      <td>6.6503</td>\n",
              "    </tr>\n",
              "  </tbody>\n",
              "</table>\n",
              "</div>\n",
              "      <button class=\"colab-df-convert\" onclick=\"convertToInteractive('df-ff6e0f6d-06e4-448d-af31-2c549d6f2820')\"\n",
              "              title=\"Convert this dataframe to an interactive table.\"\n",
              "              style=\"display:none;\">\n",
              "        \n",
              "  <svg xmlns=\"http://www.w3.org/2000/svg\" height=\"24px\"viewBox=\"0 0 24 24\"\n",
              "       width=\"24px\">\n",
              "    <path d=\"M0 0h24v24H0V0z\" fill=\"none\"/>\n",
              "    <path d=\"M18.56 5.44l.94 2.06.94-2.06 2.06-.94-2.06-.94-.94-2.06-.94 2.06-2.06.94zm-11 1L8.5 8.5l.94-2.06 2.06-.94-2.06-.94L8.5 2.5l-.94 2.06-2.06.94zm10 10l.94 2.06.94-2.06 2.06-.94-2.06-.94-.94-2.06-.94 2.06-2.06.94z\"/><path d=\"M17.41 7.96l-1.37-1.37c-.4-.4-.92-.59-1.43-.59-.52 0-1.04.2-1.43.59L10.3 9.45l-7.72 7.72c-.78.78-.78 2.05 0 2.83L4 21.41c.39.39.9.59 1.41.59.51 0 1.02-.2 1.41-.59l7.78-7.78 2.81-2.81c.8-.78.8-2.07 0-2.86zM5.41 20L4 18.59l7.72-7.72 1.47 1.35L5.41 20z\"/>\n",
              "  </svg>\n",
              "      </button>\n",
              "      \n",
              "  <style>\n",
              "    .colab-df-container {\n",
              "      display:flex;\n",
              "      flex-wrap:wrap;\n",
              "      gap: 12px;\n",
              "    }\n",
              "\n",
              "    .colab-df-convert {\n",
              "      background-color: #E8F0FE;\n",
              "      border: none;\n",
              "      border-radius: 50%;\n",
              "      cursor: pointer;\n",
              "      display: none;\n",
              "      fill: #1967D2;\n",
              "      height: 32px;\n",
              "      padding: 0 0 0 0;\n",
              "      width: 32px;\n",
              "    }\n",
              "\n",
              "    .colab-df-convert:hover {\n",
              "      background-color: #E2EBFA;\n",
              "      box-shadow: 0px 1px 2px rgba(60, 64, 67, 0.3), 0px 1px 3px 1px rgba(60, 64, 67, 0.15);\n",
              "      fill: #174EA6;\n",
              "    }\n",
              "\n",
              "    [theme=dark] .colab-df-convert {\n",
              "      background-color: #3B4455;\n",
              "      fill: #D2E3FC;\n",
              "    }\n",
              "\n",
              "    [theme=dark] .colab-df-convert:hover {\n",
              "      background-color: #434B5C;\n",
              "      box-shadow: 0px 1px 3px 1px rgba(0, 0, 0, 0.15);\n",
              "      filter: drop-shadow(0px 1px 2px rgba(0, 0, 0, 0.3));\n",
              "      fill: #FFFFFF;\n",
              "    }\n",
              "  </style>\n",
              "\n",
              "      <script>\n",
              "        const buttonEl =\n",
              "          document.querySelector('#df-ff6e0f6d-06e4-448d-af31-2c549d6f2820 button.colab-df-convert');\n",
              "        buttonEl.style.display =\n",
              "          google.colab.kernel.accessAllowed ? 'block' : 'none';\n",
              "\n",
              "        async function convertToInteractive(key) {\n",
              "          const element = document.querySelector('#df-ff6e0f6d-06e4-448d-af31-2c549d6f2820');\n",
              "          const dataTable =\n",
              "            await google.colab.kernel.invokeFunction('convertToInteractive',\n",
              "                                                     [key], {});\n",
              "          if (!dataTable) return;\n",
              "\n",
              "          const docLinkHtml = 'Like what you see? Visit the ' +\n",
              "            '<a target=\"_blank\" href=https://colab.research.google.com/notebooks/data_table.ipynb>data table notebook</a>'\n",
              "            + ' to learn more about interactive tables.';\n",
              "          element.innerHTML = '';\n",
              "          dataTable['output_type'] = 'display_data';\n",
              "          await google.colab.output.renderOutput(dataTable, element);\n",
              "          const docLink = document.createElement('div');\n",
              "          docLink.innerHTML = docLinkHtml;\n",
              "          element.appendChild(docLink);\n",
              "        }\n",
              "      </script>\n",
              "    </div>\n",
              "  </div>\n",
              "  "
            ],
            "text/plain": [
              "              Place  ProductId    ProductName  UmId UmName  Month  Year   Price\n",
              "0  National Average         52  Rice - Retail     5     KG      5  2013  4.4920\n",
              "1  National Average         52  Rice - Retail     5     KG      6  2013  4.5786\n",
              "2  National Average         52  Rice - Retail     5     KG     11  2013  4.7865\n",
              "3  National Average         52  Rice - Retail     5     KG     12  2013  5.1337\n",
              "4  National Average         52  Rice - Retail     5     KG      1  2014  5.5099\n",
              "5  National Average         52  Rice - Retail     5     KG      2  2014  5.8146\n",
              "6  National Average         52  Rice - Retail     5     KG      3  2014  6.0014\n",
              "7  National Average         52  Rice - Retail     5     KG      5  2014  6.3202\n",
              "8  National Average         52  Rice - Retail     5     KG      6  2014  6.6019\n",
              "9  National Average         52  Rice - Retail     5     KG      7  2014  6.6503"
            ]
          },
          "metadata": {},
          "execution_count": 21
        }
      ]
    },
    {
      "cell_type": "code",
      "source": [
        "data.shape"
      ],
      "metadata": {
        "colab": {
          "base_uri": "https://localhost:8080/"
        },
        "id": "m2hso3veLDS1",
        "outputId": "e124b7ce-3242-4dbb-e08e-28d055a1a119"
      },
      "execution_count": null,
      "outputs": [
        {
          "output_type": "execute_result",
          "data": {
            "text/plain": [
              "(7381, 8)"
            ]
          },
          "metadata": {},
          "execution_count": 23
        }
      ]
    },
    {
      "cell_type": "code",
      "source": [
        "print(\"Số dòng dữ liệu: \",data.shape[0]) # Chỉ số của dòng\n",
        "print(\"Số cột dữ liệu: \",data.shape[1]) # Chỉ số của cột"
      ],
      "metadata": {
        "colab": {
          "base_uri": "https://localhost:8080/"
        },
        "id": "IyKQbQSQLF9_",
        "outputId": "8107ef4a-db84-43c9-b4d2-446ffd7c7973"
      },
      "execution_count": null,
      "outputs": [
        {
          "output_type": "stream",
          "name": "stdout",
          "text": [
            "Số dòng dữ liệu:  7381\n",
            "Số cột dữ liệu:  8\n"
          ]
        }
      ]
    },
    {
      "cell_type": "code",
      "source": [
        "# Kiểm tra tên các thuộc tính\n",
        "data.columns"
      ],
      "metadata": {
        "colab": {
          "base_uri": "https://localhost:8080/"
        },
        "id": "RhGVse6SLLyK",
        "outputId": "58fa5016-6a7f-4fde-a219-ec14190c1dfd"
      },
      "execution_count": null,
      "outputs": [
        {
          "output_type": "execute_result",
          "data": {
            "text/plain": [
              "Index(['Place', 'ProductId', 'ProductName', 'UmId', 'UmName', 'Month', 'Year',\n",
              "       'Price'],\n",
              "      dtype='object')"
            ]
          },
          "metadata": {},
          "execution_count": 26
        }
      ]
    },
    {
      "cell_type": "code",
      "source": [
        "len(data.columns)"
      ],
      "metadata": {
        "colab": {
          "base_uri": "https://localhost:8080/"
        },
        "id": "L7753wc6LaVn",
        "outputId": "d6177c85-7a5f-4477-8fac-6d22c25105b8"
      },
      "execution_count": null,
      "outputs": [
        {
          "output_type": "execute_result",
          "data": {
            "text/plain": [
              "8"
            ]
          },
          "metadata": {},
          "execution_count": 27
        }
      ]
    },
    {
      "cell_type": "code",
      "source": [
        "# Kiểm tra dữ liệu của các cột thuộc tính\n",
        "data.dtypes"
      ],
      "metadata": {
        "colab": {
          "base_uri": "https://localhost:8080/"
        },
        "id": "x_Hrj8X2Le9k",
        "outputId": "d352cdf9-f0ed-4f93-de1c-b076da3595be"
      },
      "execution_count": null,
      "outputs": [
        {
          "output_type": "execute_result",
          "data": {
            "text/plain": [
              "Place           object\n",
              "ProductId        int64\n",
              "ProductName     object\n",
              "UmId             int64\n",
              "UmName          object\n",
              "Month            int64\n",
              "Year             int64\n",
              "Price          float64\n",
              "dtype: object"
            ]
          },
          "metadata": {},
          "execution_count": 29
        }
      ]
    },
    {
      "cell_type": "code",
      "source": [
        "data.info()"
      ],
      "metadata": {
        "colab": {
          "base_uri": "https://localhost:8080/"
        },
        "id": "2s-rpfshLm06",
        "outputId": "2783c4cd-fc32-4b0b-9c29-0e7507c6e23e"
      },
      "execution_count": null,
      "outputs": [
        {
          "output_type": "stream",
          "name": "stdout",
          "text": [
            "<class 'pandas.core.frame.DataFrame'>\n",
            "RangeIndex: 7381 entries, 0 to 7380\n",
            "Data columns (total 8 columns):\n",
            " #   Column       Non-Null Count  Dtype  \n",
            "---  ------       --------------  -----  \n",
            " 0   Place        7381 non-null   object \n",
            " 1   ProductId    7381 non-null   int64  \n",
            " 2   ProductName  7381 non-null   object \n",
            " 3   UmId         7381 non-null   int64  \n",
            " 4   UmName       7381 non-null   object \n",
            " 5   Month        7381 non-null   int64  \n",
            " 6   Year         7381 non-null   int64  \n",
            " 7   Price        7381 non-null   float64\n",
            "dtypes: float64(1), int64(4), object(3)\n",
            "memory usage: 461.4+ KB\n"
          ]
        }
      ]
    },
    {
      "cell_type": "code",
      "source": [
        "data.describe()"
      ],
      "metadata": {
        "colab": {
          "base_uri": "https://localhost:8080/",
          "height": 300
        },
        "id": "jpf78d5uLplG",
        "outputId": "42f3b8b0-5c05-4173-ee7f-0ff1eeee3ba0"
      },
      "execution_count": null,
      "outputs": [
        {
          "output_type": "execute_result",
          "data": {
            "text/html": [
              "\n",
              "  <div id=\"df-0e6c8b96-3414-491b-9c5a-6dcea327aeb1\">\n",
              "    <div class=\"colab-df-container\">\n",
              "      <div>\n",
              "<style scoped>\n",
              "    .dataframe tbody tr th:only-of-type {\n",
              "        vertical-align: middle;\n",
              "    }\n",
              "\n",
              "    .dataframe tbody tr th {\n",
              "        vertical-align: top;\n",
              "    }\n",
              "\n",
              "    .dataframe thead th {\n",
              "        text-align: right;\n",
              "    }\n",
              "</style>\n",
              "<table border=\"1\" class=\"dataframe\">\n",
              "  <thead>\n",
              "    <tr style=\"text-align: right;\">\n",
              "      <th></th>\n",
              "      <th>ProductId</th>\n",
              "      <th>UmId</th>\n",
              "      <th>Month</th>\n",
              "      <th>Year</th>\n",
              "      <th>Price</th>\n",
              "    </tr>\n",
              "  </thead>\n",
              "  <tbody>\n",
              "    <tr>\n",
              "      <th>count</th>\n",
              "      <td>7381.000000</td>\n",
              "      <td>7381.000000</td>\n",
              "      <td>7381.000000</td>\n",
              "      <td>7381.000000</td>\n",
              "      <td>7381.000000</td>\n",
              "    </tr>\n",
              "    <tr>\n",
              "      <th>mean</th>\n",
              "      <td>254.509687</td>\n",
              "      <td>15.252811</td>\n",
              "      <td>6.479881</td>\n",
              "      <td>2017.458474</td>\n",
              "      <td>15.738709</td>\n",
              "    </tr>\n",
              "    <tr>\n",
              "      <th>std</th>\n",
              "      <td>141.008599</td>\n",
              "      <td>25.276665</td>\n",
              "      <td>3.530361</td>\n",
              "      <td>1.499256</td>\n",
              "      <td>22.418284</td>\n",
              "    </tr>\n",
              "    <tr>\n",
              "      <th>min</th>\n",
              "      <td>52.000000</td>\n",
              "      <td>5.000000</td>\n",
              "      <td>1.000000</td>\n",
              "      <td>2013.000000</td>\n",
              "      <td>0.253900</td>\n",
              "    </tr>\n",
              "    <tr>\n",
              "      <th>25%</th>\n",
              "      <td>114.000000</td>\n",
              "      <td>5.000000</td>\n",
              "      <td>3.000000</td>\n",
              "      <td>2017.000000</td>\n",
              "      <td>3.223600</td>\n",
              "    </tr>\n",
              "    <tr>\n",
              "      <th>50%</th>\n",
              "      <td>239.000000</td>\n",
              "      <td>5.000000</td>\n",
              "      <td>6.000000</td>\n",
              "      <td>2018.000000</td>\n",
              "      <td>5.909600</td>\n",
              "    </tr>\n",
              "    <tr>\n",
              "      <th>75%</th>\n",
              "      <td>388.000000</td>\n",
              "      <td>5.000000</td>\n",
              "      <td>10.000000</td>\n",
              "      <td>2019.000000</td>\n",
              "      <td>20.441900</td>\n",
              "    </tr>\n",
              "    <tr>\n",
              "      <th>max</th>\n",
              "      <td>502.000000</td>\n",
              "      <td>102.000000</td>\n",
              "      <td>12.000000</td>\n",
              "      <td>2019.000000</td>\n",
              "      <td>159.445800</td>\n",
              "    </tr>\n",
              "  </tbody>\n",
              "</table>\n",
              "</div>\n",
              "      <button class=\"colab-df-convert\" onclick=\"convertToInteractive('df-0e6c8b96-3414-491b-9c5a-6dcea327aeb1')\"\n",
              "              title=\"Convert this dataframe to an interactive table.\"\n",
              "              style=\"display:none;\">\n",
              "        \n",
              "  <svg xmlns=\"http://www.w3.org/2000/svg\" height=\"24px\"viewBox=\"0 0 24 24\"\n",
              "       width=\"24px\">\n",
              "    <path d=\"M0 0h24v24H0V0z\" fill=\"none\"/>\n",
              "    <path d=\"M18.56 5.44l.94 2.06.94-2.06 2.06-.94-2.06-.94-.94-2.06-.94 2.06-2.06.94zm-11 1L8.5 8.5l.94-2.06 2.06-.94-2.06-.94L8.5 2.5l-.94 2.06-2.06.94zm10 10l.94 2.06.94-2.06 2.06-.94-2.06-.94-.94-2.06-.94 2.06-2.06.94z\"/><path d=\"M17.41 7.96l-1.37-1.37c-.4-.4-.92-.59-1.43-.59-.52 0-1.04.2-1.43.59L10.3 9.45l-7.72 7.72c-.78.78-.78 2.05 0 2.83L4 21.41c.39.39.9.59 1.41.59.51 0 1.02-.2 1.41-.59l7.78-7.78 2.81-2.81c.8-.78.8-2.07 0-2.86zM5.41 20L4 18.59l7.72-7.72 1.47 1.35L5.41 20z\"/>\n",
              "  </svg>\n",
              "      </button>\n",
              "      \n",
              "  <style>\n",
              "    .colab-df-container {\n",
              "      display:flex;\n",
              "      flex-wrap:wrap;\n",
              "      gap: 12px;\n",
              "    }\n",
              "\n",
              "    .colab-df-convert {\n",
              "      background-color: #E8F0FE;\n",
              "      border: none;\n",
              "      border-radius: 50%;\n",
              "      cursor: pointer;\n",
              "      display: none;\n",
              "      fill: #1967D2;\n",
              "      height: 32px;\n",
              "      padding: 0 0 0 0;\n",
              "      width: 32px;\n",
              "    }\n",
              "\n",
              "    .colab-df-convert:hover {\n",
              "      background-color: #E2EBFA;\n",
              "      box-shadow: 0px 1px 2px rgba(60, 64, 67, 0.3), 0px 1px 3px 1px rgba(60, 64, 67, 0.15);\n",
              "      fill: #174EA6;\n",
              "    }\n",
              "\n",
              "    [theme=dark] .colab-df-convert {\n",
              "      background-color: #3B4455;\n",
              "      fill: #D2E3FC;\n",
              "    }\n",
              "\n",
              "    [theme=dark] .colab-df-convert:hover {\n",
              "      background-color: #434B5C;\n",
              "      box-shadow: 0px 1px 3px 1px rgba(0, 0, 0, 0.15);\n",
              "      filter: drop-shadow(0px 1px 2px rgba(0, 0, 0, 0.3));\n",
              "      fill: #FFFFFF;\n",
              "    }\n",
              "  </style>\n",
              "\n",
              "      <script>\n",
              "        const buttonEl =\n",
              "          document.querySelector('#df-0e6c8b96-3414-491b-9c5a-6dcea327aeb1 button.colab-df-convert');\n",
              "        buttonEl.style.display =\n",
              "          google.colab.kernel.accessAllowed ? 'block' : 'none';\n",
              "\n",
              "        async function convertToInteractive(key) {\n",
              "          const element = document.querySelector('#df-0e6c8b96-3414-491b-9c5a-6dcea327aeb1');\n",
              "          const dataTable =\n",
              "            await google.colab.kernel.invokeFunction('convertToInteractive',\n",
              "                                                     [key], {});\n",
              "          if (!dataTable) return;\n",
              "\n",
              "          const docLinkHtml = 'Like what you see? Visit the ' +\n",
              "            '<a target=\"_blank\" href=https://colab.research.google.com/notebooks/data_table.ipynb>data table notebook</a>'\n",
              "            + ' to learn more about interactive tables.';\n",
              "          element.innerHTML = '';\n",
              "          dataTable['output_type'] = 'display_data';\n",
              "          await google.colab.output.renderOutput(dataTable, element);\n",
              "          const docLink = document.createElement('div');\n",
              "          docLink.innerHTML = docLinkHtml;\n",
              "          element.appendChild(docLink);\n",
              "        }\n",
              "      </script>\n",
              "    </div>\n",
              "  </div>\n",
              "  "
            ],
            "text/plain": [
              "         ProductId         UmId        Month         Year        Price\n",
              "count  7381.000000  7381.000000  7381.000000  7381.000000  7381.000000\n",
              "mean    254.509687    15.252811     6.479881  2017.458474    15.738709\n",
              "std     141.008599    25.276665     3.530361     1.499256    22.418284\n",
              "min      52.000000     5.000000     1.000000  2013.000000     0.253900\n",
              "25%     114.000000     5.000000     3.000000  2017.000000     3.223600\n",
              "50%     239.000000     5.000000     6.000000  2018.000000     5.909600\n",
              "75%     388.000000     5.000000    10.000000  2019.000000    20.441900\n",
              "max     502.000000   102.000000    12.000000  2019.000000   159.445800"
            ]
          },
          "metadata": {},
          "execution_count": 31
        }
      ]
    },
    {
      "cell_type": "markdown",
      "source": [
        "![image.png](data:image/png;base64,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)"
      ],
      "metadata": {
        "id": "nYdP36fIMVp9"
      }
    },
    {
      "cell_type": "code",
      "source": [
        ""
      ],
      "metadata": {
        "id": "lud6H-aELrei"
      },
      "execution_count": null,
      "outputs": []
    }
  ]
}